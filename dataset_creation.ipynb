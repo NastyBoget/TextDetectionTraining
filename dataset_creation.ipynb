{
 "cells": [
  {
   "cell_type": "markdown",
   "source": [
    "https://blog.mindee.com/vin-extraction-with-doctr/"
   ],
   "metadata": {
    "collapsed": false
   }
  },
  {
   "cell_type": "code",
   "execution_count": 1,
   "metadata": {
    "collapsed": true
   },
   "outputs": [
    {
     "name": "stderr",
     "output_type": "stream",
     "text": [
      "/Users/anastasiabogatenkova/work/TextDetection/venv/lib/python3.9/site-packages/torch/nn/functional.py:718: UserWarning: Named tensors and all their associated APIs are an experimental feature and subject to change. Please do not use them for anything important until they are released as stable. (Triggered internally at  ../c10/core/TensorImpl.h:1156.)\n",
      "  return torch.max_pool2d(input, kernel_size, stride, padding, dilation, ceil_mode)\n"
     ]
    }
   ],
   "source": [
    "import os\n",
    "\n",
    "import cv2\n",
    "from doctr.datasets import DetectionDataset\n",
    "from doctr.models import detection_predictor\n",
    "import json\n",
    "\n",
    "text_detector = detection_predictor(arch='db_resnet50', pretrained=True)\n"
   ]
  },
  {
   "cell_type": "code",
   "source": [
    "labels = {}\n",
    "\n",
    "stage = \"train\"\n",
    "\n",
    "img_dir = f\"data/{stage}/images\"\n",
    "\n",
    "for img_name in os.listdir(img_dir):\n",
    "    if not img_name.endswith(\".jpg\"):\n",
    "        continue\n",
    "\n",
    "    img = cv2.imread(os.path.join(img_dir, img_name))\n",
    "    result = text_detector([img])\n",
    "    h, w, _ = img.shape\n",
    "    bboxes = [(int(box[0] * w), int(box[1] * h), int(box[2] * w), int(box[3] * h)) for box in result[0]]\n",
    "    labels[img_name] = {\n",
    "        \"polygons\": [[[bbox[0], bbox[1]], [bbox[2], bbox[3]]] for bbox in bboxes]\n",
    "    }\n",
    "\n",
    "with open(f\"data/{stage}/labels.json\", \"w\") as f:\n",
    "    json.dump(labels, f)\n",
    "\n",
    "train_set = DetectionDataset(img_folder=f\"data/{stage}/images\",\n",
    "                             label_path=f\"data/{stage}/labels.json\")\n",
    "train_set[0][1], len(train_set)"
   ],
   "metadata": {
    "collapsed": false,
    "pycharm": {
     "name": "#%%\n"
    }
   },
   "execution_count": 2,
   "outputs": [
    {
     "data": {
      "text/plain": "(array([[0.07313368, 0.6875    , 0.265625  , 0.7332176 ],\n        [0.09657118, 0.5798611 , 0.29492188, 0.6140046 ],\n        [0.328125  , 0.573206  , 0.5332031 , 0.6209491 ],\n        [0.7480469 , 0.48900464, 0.9403212 , 0.5613426 ],\n        [0.57508683, 0.4988426 , 0.6269531 , 0.5300926 ],\n        [0.65234375, 0.4939236 , 0.7528212 , 0.5379051 ],\n        [0.43164062, 0.49594906, 0.55360246, 0.53125   ],\n        [0.2421875 , 0.479456  , 0.40125868, 0.5486111 ],\n        [0.08007812, 0.4597801 , 0.22938368, 0.5535301 ],\n        [0.30555555, 0.354456  , 0.5234375 , 0.4129051 ]], dtype=float32),\n 12)"
     },
     "execution_count": 2,
     "metadata": {},
     "output_type": "execute_result"
    }
   ]
  }
 ],
 "metadata": {
  "kernelspec": {
   "display_name": "Python 3",
   "language": "python",
   "name": "python3"
  },
  "language_info": {
   "codemirror_mode": {
    "name": "ipython",
    "version": 2
   },
   "file_extension": ".py",
   "mimetype": "text/x-python",
   "name": "python",
   "nbconvert_exporter": "python",
   "pygments_lexer": "ipython2",
   "version": "2.7.6"
  }
 },
 "nbformat": 4,
 "nbformat_minor": 0
}