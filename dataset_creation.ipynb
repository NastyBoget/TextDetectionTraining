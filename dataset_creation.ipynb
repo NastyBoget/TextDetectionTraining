{
 "cells": [
  {
   "cell_type": "markdown",
   "source": [
    "https://blog.mindee.com/vin-extraction-with-doctr/"
   ],
   "metadata": {
    "collapsed": false
   }
  },
  {
   "cell_type": "code",
   "execution_count": 23,
   "metadata": {
    "collapsed": true
   },
   "outputs": [],
   "source": [
    "import os\n",
    "\n",
    "import cv2\n",
    "from doctr.datasets import DetectionDataset\n",
    "from doctr.models import detection_predictor\n",
    "import json"
   ]
  },
  {
   "cell_type": "code",
   "source": [
    "text_detector = detection_predictor(arch='db_resnet50', pretrained=True)\n",
    "labels = {}\n",
    "\n",
    "stage = \"train\"\n",
    "\n",
    "img_dir = f\"data/{stage}/images\"\n",
    "\n",
    "for img_name in os.listdir(img_dir):\n",
    "    if not img_name.endswith(\".jpg\"):\n",
    "        continue\n",
    "\n",
    "    img = cv2.imread(os.path.join(img_dir, img_name))\n",
    "    result = text_detector([img])\n",
    "    h, w, _ = img.shape\n",
    "    bboxes = [(int(box[0] * w), int(box[1] * h), int(box[2] * w), int(box[3] * h)) for box in result[0]]\n",
    "    labels[img_name] = {\n",
    "        \"polygons\": [[[bbox[0], bbox[1]], [bbox[2], bbox[3]]] for bbox in bboxes]\n",
    "    }\n",
    "\n",
    "with open(f\"data/{stage}/labels.json\", \"w\") as f:\n",
    "    json.dump(labels, f)\n",
    "\n",
    "train_set = DetectionDataset(img_folder=f\"data/{stage}/images\",\n",
    "                             label_path=f\"data/{stage}/labels.json\")\n",
    "len(train_set)"
   ],
   "metadata": {
    "collapsed": false,
    "pycharm": {
     "name": "#%%\n"
    }
   },
   "execution_count": 29,
   "outputs": [
    {
     "data": {
      "text/plain": "12"
     },
     "execution_count": 29,
     "metadata": {},
     "output_type": "execute_result"
    }
   ]
  },
  {
   "cell_type": "code",
   "execution_count": null,
   "outputs": [],
   "source": [],
   "metadata": {
    "collapsed": false,
    "pycharm": {
     "name": "#%%\n"
    }
   }
  }
 ],
 "metadata": {
  "kernelspec": {
   "display_name": "Python 3",
   "language": "python",
   "name": "python3"
  },
  "language_info": {
   "codemirror_mode": {
    "name": "ipython",
    "version": 2
   },
   "file_extension": ".py",
   "mimetype": "text/x-python",
   "name": "python",
   "nbconvert_exporter": "python",
   "pygments_lexer": "ipython2",
   "version": "2.7.6"
  }
 },
 "nbformat": 4,
 "nbformat_minor": 0
}