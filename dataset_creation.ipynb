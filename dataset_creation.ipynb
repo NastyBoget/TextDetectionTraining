{
 "cells": [
  {
   "cell_type": "markdown",
   "source": [
    "https://blog.mindee.com/vin-extraction-with-doctr/"
   ],
   "metadata": {
    "collapsed": false
   }
  },
  {
   "cell_type": "code",
   "execution_count": 13,
   "metadata": {
    "collapsed": true
   },
   "outputs": [],
   "source": [
    "import cv2\n",
    "from doctr.datasets import DetectionDataset\n",
    "from doctr.models import detection_predictor\n",
    "import json"
   ]
  },
  {
   "cell_type": "code",
   "source": [
    "text_detector = detection_predictor(arch='db_resnet50', pretrained=True)\n",
    "img = cv2.imread(\"data/images/1.jpg\")\n",
    "result = text_detector([img])"
   ],
   "metadata": {
    "collapsed": false,
    "pycharm": {
     "name": "#%%\n"
    }
   },
   "execution_count": 9,
   "outputs": []
  },
  {
   "cell_type": "code",
   "execution_count": 12,
   "outputs": [
    {
     "data": {
      "text/plain": "[(3879, 1788, 4540, 1910),\n (3213, 1785, 3843, 1896),\n (1552, 1751, 2016, 1886),\n (2241, 1741, 3177, 1903),\n (2016, 1758, 2227, 1876),\n (396, 1660, 891, 1950),\n (828, 1626, 1615, 2001),\n (1773, 1275, 2704, 1593)]"
     },
     "execution_count": 12,
     "metadata": {},
     "output_type": "execute_result"
    }
   ],
   "source": [
    "h, w, _ = img.shape\n",
    "bboxes = [(int(box[0] * w), int(box[1] * h), int(box[2] * w), int(box[3] * h)) for box in result[0]]\n",
    "bboxes"
   ],
   "metadata": {
    "collapsed": false,
    "pycharm": {
     "name": "#%%\n"
    }
   }
  },
  {
   "cell_type": "code",
   "execution_count": 15,
   "outputs": [],
   "source": [
    "labels = {\n",
    "    \"1.jpg\": {\n",
    "        \"polygons\": [[[bbox[0], bbox[1]], [bbox[2], bbox[3]]] for bbox in bboxes]\n",
    "    }\n",
    "}\n",
    "\n",
    "with open(\"data/labels.json\", \"w\") as f:\n",
    "    json.dump(labels, f)"
   ],
   "metadata": {
    "collapsed": false,
    "pycharm": {
     "name": "#%%\n"
    }
   }
  },
  {
   "cell_type": "code",
   "execution_count": 21,
   "outputs": [
    {
     "data": {
      "text/plain": "array([[0.8417969 , 0.5173611 , 0.9852431 , 0.552662  ],\n       [0.6972656 , 0.5164931 , 0.8339844 , 0.5486111 ],\n       [0.33680555, 0.5066551 , 0.4375    , 0.5457176 ],\n       [0.48632812, 0.5037616 , 0.6894531 , 0.5506366 ],\n       [0.4375    , 0.5086806 , 0.48328993, 0.5428241 ],\n       [0.0859375 , 0.48032406, 0.19335938, 0.5642361 ],\n       [0.1796875 , 0.4704861 , 0.35047743, 0.5789931 ],\n       [0.38476562, 0.3689236 , 0.5868056 , 0.4609375 ]], dtype=float32)"
     },
     "execution_count": 21,
     "metadata": {},
     "output_type": "execute_result"
    }
   ],
   "source": [
    "train_set = DetectionDataset(img_folder=\"data/images\",\n",
    "                             label_path=\"data/labels.json\")\n",
    "img, target = train_set[0]\n",
    "target"
   ],
   "metadata": {
    "collapsed": false,
    "pycharm": {
     "name": "#%%\n"
    }
   }
  },
  {
   "cell_type": "code",
   "execution_count": null,
   "outputs": [],
   "source": [],
   "metadata": {
    "collapsed": false,
    "pycharm": {
     "name": "#%%\n"
    }
   }
  }
 ],
 "metadata": {
  "kernelspec": {
   "display_name": "Python 3",
   "language": "python",
   "name": "python3"
  },
  "language_info": {
   "codemirror_mode": {
    "name": "ipython",
    "version": 2
   },
   "file_extension": ".py",
   "mimetype": "text/x-python",
   "name": "python",
   "nbconvert_exporter": "python",
   "pygments_lexer": "ipython2",
   "version": "2.7.6"
  }
 },
 "nbformat": 4,
 "nbformat_minor": 0
}