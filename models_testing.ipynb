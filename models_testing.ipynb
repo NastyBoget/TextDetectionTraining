{
 "cells": [
  {
   "cell_type": "code",
   "execution_count": 1,
   "metadata": {
    "collapsed": true
   },
   "outputs": [],
   "source": [
    "import os\n",
    "from copy import deepcopy\n",
    "\n",
    "import cv2\n",
    "from doctr.models import detection_predictor\n",
    "import torch\n",
    "import matplotlib.pyplot as plt\n",
    "from tqdm import tqdm"
   ]
  },
  {
   "cell_type": "code",
   "execution_count": 2,
   "outputs": [
    {
     "name": "stderr",
     "output_type": "stream",
     "text": [
      "/Users/anastasiabogatenkova/work/TextDetection/venv/lib/python3.9/site-packages/torch/nn/functional.py:718: UserWarning: Named tensors and all their associated APIs are an experimental feature and subject to change. Please do not use them for anything important until they are released as stable. (Triggered internally at  ../c10/core/TensorImpl.h:1156.)\n",
      "  return torch.max_pool2d(input, kernel_size, stride, padding, dilation, ceil_mode)\n"
     ]
    }
   ],
   "source": [
    "text_detector = detection_predictor(arch='db_resnet50', pretrained=True)\n",
    "# checkpoint = torch.load(\"models/db_resnet50_all_data_last.pt\", map_location='cpu')\n",
    "# text_detector.model.load_state_dict(checkpoint)\n",
    "# text_detector.eval()\n",
    "\n",
    "# print()"
   ],
   "metadata": {
    "collapsed": false,
    "pycharm": {
     "name": "#%%\n"
    }
   }
  },
  {
   "cell_type": "code",
   "execution_count": 3,
   "outputs": [],
   "source": [
    "def get_bboxes(img, model):\n",
    "    out = model([img])\n",
    "    h, w, _ = img.shape\n",
    "    bboxes = [(int(box[0] * w), int(box[1] * h), int(box[2] * w), int(box[3] * h)) for box in out[0]]\n",
    "    return bboxes"
   ],
   "metadata": {
    "collapsed": false,
    "pycharm": {
     "name": "#%%\n"
    }
   }
  },
  {
   "cell_type": "code",
   "execution_count": 7,
   "outputs": [],
   "source": [
    "def draw_results(base_text_detector, new_text_detector, in_dir, out_dir):\n",
    "    os.makedirs(out_dir, exist_ok=True)\n",
    "    for img_name in tqdm(os.listdir(in_dir)):\n",
    "        if not img_name[0].isdigit():\n",
    "            continue\n",
    "\n",
    "        img = cv2.imread(os.path.join(in_dir, img_name))\n",
    "        img_with_lines = deepcopy(img)\n",
    "\n",
    "        base_bboxes = get_bboxes(img, base_text_detector)\n",
    "        new_bboxes = get_bboxes(img, new_text_detector)\n",
    "        for bbox in base_bboxes:\n",
    "            img_with_lines = cv2.rectangle(img_with_lines, (bbox[0], bbox[1]), (bbox[2], bbox[3]), (0, 0, 255), 2)\n",
    "        for bbox in new_bboxes:\n",
    "            img = cv2.rectangle(img, (bbox[0], bbox[1]), (bbox[2], bbox[3]), (0, 0, 255), 2)\n",
    "        plt.axis('off')\n",
    "        fig, ax = plt.subplots(1, 2)\n",
    "        fig.set_figheight(10)\n",
    "        fig.set_figwidth(15)\n",
    "\n",
    "        ax[0].set_title(\"Before\")\n",
    "        ax[0].axes.xaxis.set_ticklabels([])\n",
    "        ax[0].axes.yaxis.set_ticklabels([])\n",
    "        ax[0].imshow(img_with_lines)\n",
    "\n",
    "        ax[1].set_title(\"After\")\n",
    "        ax[1].axes.xaxis.set_ticklabels([])\n",
    "        ax[1].axes.yaxis.set_ticklabels([])\n",
    "        ax[1].imshow(img)\n",
    "        plt.savefig(os.path.join(out_dir, f\"{img_name}.jpg\"))\n",
    "        plt.close(fig)"
   ],
   "metadata": {
    "collapsed": false,
    "pycharm": {
     "name": "#%%\n"
    }
   }
  },
  {
   "cell_type": "code",
   "execution_count": 8,
   "outputs": [
    {
     "name": "stderr",
     "output_type": "stream",
     "text": [
      "100%|██████████| 30/30 [03:40<00:00,  7.36s/it]\n"
     ]
    },
    {
     "data": {
      "text/plain": "<Figure size 432x288 with 1 Axes>",
      "image/png": "[encoded data removed]"
     },
     "metadata": {
      "needs_background": "light"
     },
     "output_type": "display_data"
    }
   ],
   "source": [
    "text_detector_1 = detection_predictor(arch='db_resnet50', pretrained=True)\n",
    "checkpoint = torch.load(\"models/db_resnet50_all_data.pt\", map_location='cpu')\n",
    "text_detector_1.model.load_state_dict(checkpoint)\n",
    "text_detector_1.eval()\n",
    "draw_results(text_detector, text_detector_1, \"actual_data/stamps\", \"actual_data/stamps_out\")"
   ],
   "metadata": {
    "collapsed": false,
    "pycharm": {
     "name": "#%%\n"
    }
   }
  },
  {
   "cell_type": "code",
   "execution_count": null,
   "outputs": [],
   "source": [],
   "metadata": {
    "collapsed": false,
    "pycharm": {
     "name": "#%%"
    }
   }
  }
 ],
 "metadata": {
  "kernelspec": {
   "display_name": "Python 3",
   "language": "python",
   "name": "python3"
  },
  "language_info": {
   "codemirror_mode": {
    "name": "ipython",
    "version": 2
   },
   "file_extension": ".py",
   "mimetype": "text/x-python",
   "name": "python",
   "nbconvert_exporter": "python",
   "pygments_lexer": "ipython2",
   "version": "2.7.6"
  }
 },
 "nbformat": 4,
 "nbformat_minor": 0
}